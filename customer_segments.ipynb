{
 "cells": [
  {
   "cell_type": "markdown",
   "metadata": {},
   "source": [
    "# Creating Customer Segments"
   ]
  },
  {
   "cell_type": "markdown",
   "metadata": {},
   "source": [
    "**Project Status: In Progress (Updated: 3/14/2016)\n",
    "\n",
    "This project will analyze a dataset containing annual spending amounts for internal structure, to understand the variation in the different types of customers that a wholesale distributor interacts with."
   ]
  },
  {
   "cell_type": "code",
   "execution_count": null,
   "metadata": {
    "collapsed": false
   },
   "outputs": [],
   "source": [
    "# Import libraries: NumPy, pandas, matplotlib\n",
    "import numpy as np\n",
    "import pandas as pd\n",
    "import matplotlib.pyplot as pl\n",
    "import seaborn as sns\n",
    "from mpl_toolkits.mplot3d import Axes3D\n",
    "from sklearn.decomposition import PCA\n",
    "from sklearn.decomposition import FastICA\n",
    "\n",
    "%matplotlib inline"
   ]
  },
  {
   "cell_type": "code",
   "execution_count": null,
   "metadata": {
    "collapsed": false,
    "scrolled": true
   },
   "outputs": [],
   "source": [
    "# Read dataset\n",
    "data = pd.read_csv(\"wholesale-customers.csv\")\n",
    "print \"Dataset has {} rows, {} columns\".format(*data.shape)\n",
    "\n",
    "print \"\\nStandard Deviation:\"\n",
    "print data.std()"
   ]
  },
  {
   "cell_type": "code",
   "execution_count": null,
   "metadata": {
    "collapsed": false
   },
   "outputs": [],
   "source": [
    "data.head()"
   ]
  },
  {
   "cell_type": "code",
   "execution_count": null,
   "metadata": {
    "collapsed": false
   },
   "outputs": [],
   "source": [
    "data.hist(bins = 30, color='r', figsize=(15,12))"
   ]
  },
  {
   "cell_type": "code",
   "execution_count": null,
   "metadata": {
    "collapsed": false,
    "scrolled": true
   },
   "outputs": [],
   "source": [
    "data.describe()"
   ]
  },
  {
   "cell_type": "code",
   "execution_count": null,
   "metadata": {
    "collapsed": false,
    "scrolled": false
   },
   "outputs": [],
   "source": [
    "data.corr()"
   ]
  },
  {
   "cell_type": "code",
   "execution_count": null,
   "metadata": {
    "collapsed": false
   },
   "outputs": [],
   "source": [
    "data.cov()"
   ]
  },
  {
   "cell_type": "markdown",
   "metadata": {},
   "source": [
    "###PCA"
   ]
  },
  {
   "cell_type": "code",
   "execution_count": null,
   "metadata": {
    "collapsed": false,
    "scrolled": true
   },
   "outputs": [],
   "source": [
    "# TODO: Apply PCA with the same number of dimensions as variables in the dataset\n",
    "def doPCA():\n",
    "    pca = PCA(n_components=5)\n",
    "    pca.fit(data)\n",
    "    return pca\n",
    "\n",
    "# Print the components and the amount of variance in the data contained in each dimension\n",
    "pca = doPCA()\n",
    "df_ica = pd.DataFrame(pca.components_, columns = columns, index=['1', '2', '3', '4','5'])\n",
    "df_ica.index.names = ['PC']\n",
    "print \"Principal Component Analysis:\"\n",
    "print df_ica\n",
    "\n",
    "ex_var = pca.explained_variance_ratio_\n",
    "df_var = pd.Series(ex_var,index=['1','2','3','4','5'])\n",
    "df_var.sort(ascending=False)\n",
    "\n",
    "\n",
    "df_var.index.names = ['PC']\n",
    "print \"\\nExplained Variance of Each Component:\"\n",
    "print df_var"
   ]
  },
  {
   "cell_type": "code",
   "execution_count": null,
   "metadata": {
    "collapsed": false,
    "scrolled": true
   },
   "outputs": [],
   "source": [
    "pl.figure(figsize=(8,5))\n",
    "x = np.arange(1,6)\n",
    "y = np.cumsum(ex_var)\n",
    "pl.plot(x,y,marker =\"o\", mfc='#780000', color = '#CC0000')\n",
    "pl.xlabel(\"No. of PC Components\", fontsize = 14)\n",
    "pl.ylabel(\"Cumulative Explained Variance Ratio\", fontsize =14)\n",
    "pl.title(\"No. of PC Components vs Explained Variance Ratio\", fontsize = 16)\n",
    "pl.show()\n",
    "\n"
   ]
  },
  {
   "cell_type": "code",
   "execution_count": null,
   "metadata": {
    "collapsed": false
   },
   "outputs": [],
   "source": [
    "pl.figure(figsize=(10,6))\n",
    "pl.bar(range(1,6), ex_var, alpha = .8, align='center',\n",
    "       label = 'Individual Explained Variance', color = 'blue')\n",
    "pl.ylabel('Explained Variance Ratio', fontsize = 14)\n",
    "pl.xlabel('Princial Components', fontsize = 14)\n",
    "pl.title('Explained Variance', fontsize = 16)\n",
    "pl.show\n",
    "\n",
    "#Slope:\n",
    "X1, Y1 = 1, 0.459614\n",
    "X2, Y2 = 2, 0.405172\n",
    "X3, Y3 = 3, 0.070030\n",
    "X4, Y4 = 4, 0.044023\n",
    "slope1 = (Y2-Y1)/(X2-X1)\n",
    "slope2 = (Y3-Y2)/(X3-X2)\n",
    "slope3= (Y4-Y3)/(X4-X3)\n",
    "print \"Slope1:\", slope1\n",
    "print \"Slope2:\", slope2\n",
    "print \"Slope3:\", slope3"
   ]
  },
  {
   "cell_type": "code",
   "execution_count": null,
   "metadata": {
    "collapsed": false
   },
   "outputs": [],
   "source": [
    "first_pc = pca.components_[0]\n",
    "second_pc = pca.components_[1]\n",
    "#print \"First PC:\", first_pc\n",
    "#print \"Second PC:\", second_pc\n",
    "\n",
    "transformed_data = pca.transform(data)\n",
    "pl.figure(figsize =(8,5))\n",
    "for ii, jj in zip(transformed_data, data):\n",
    "    pl.plot(first_pc[0]*ii[0], first_pc[1]*ii[0],marker = \"o\",color=\"r\")\n",
    "    pl.plot(second_pc[0]*ii[1], second_pc[1]*ii[1],marker =\"o\",color = \"g\")\n",
    "    pl.title(\"Principal Component Analysis\", fontsize = 16)\n",
    "\n",
    "pl.show()\n"
   ]
  },
  {
   "cell_type": "markdown",
   "metadata": {},
   "source": [
    "# Biplot"
   ]
  },
  {
   "cell_type": "code",
   "execution_count": null,
   "metadata": {
    "collapsed": false
   },
   "outputs": [],
   "source": [
    "def biplot(df):\n",
    "    # Fit on 2 components\n",
    "    pca = PCA(n_components=2, whiten=True).fit(df)\n",
    "    \n",
    "    # Plot transformed/projected data\n",
    "    ax = pd.DataFrame(\n",
    "        pca.transform(df),\n",
    "        columns=['PC1', 'PC2']\n",
    "    ).plot(kind='scatter', x='PC1', y='PC2', figsize=(10, 8), color = 'g', s=5)\n",
    "\n",
    "    # Plot arrows and labels\n",
    "    for i, (pc1, pc2) in enumerate(zip(pca.components_[0], pca.components_[1])):\n",
    "        ax.arrow(0, 0, pc1, pc2, width=0.001, fc='r', ec='r')\n",
    "        ax.annotate(df.columns[i], (pc1, pc2), size=12)\n",
    "    return ax\n",
    "\n",
    "ax = biplot(data)\n",
    "pl.title(\"Biplot\", fontsize = 20)\n",
    "pl.xlabel(\"Principal Component: 1\")\n",
    "pl.ylabel(\"Principal Component: 2\")\n",
    "# Play around with the ranges for scaling the plot\n",
    "ax.set_xlim([-1.5, .5])\n",
    "ax.set_ylim([-.3, 1.3])"
   ]
  },
  {
   "cell_type": "markdown",
   "metadata": {},
   "source": [
    "###ICA"
   ]
  },
  {
   "cell_type": "code",
   "execution_count": null,
   "metadata": {
    "collapsed": false
   },
   "outputs": [],
   "source": [
    "#Adjust the data to have center at the origin:\n",
    "columns = data.columns\n",
    "mean = data.mean()\n",
    "df_m = pd.DataFrame(mean)\n",
    "df_mean = df_m.transpose()\n",
    "df_center = pd.DataFrame(data[columns].values - df_mean[columns].values, columns=columns)\n",
    "\n",
    "def doICA():\n",
    "    ica = FastICA(n_components = 5)\n",
    "    ica.fit_transform(df_center)\n",
    "    return ica\n",
    "\n",
    "# Print the independent components\n",
    "ica = doICA()\n",
    "df_ica = pd.DataFrame(ica.components_,columns=columns, index=['1','2','3','4','5'])\n",
    "df.index.names = ['PC']\n",
    "print \"Independent Component Analysis:\"\n",
    "print df_ica\n",
    "\n",
    "pl.figure(figsize=(20,20))\n",
    "pl.figure(figsize = (11,5))\n",
    "sns.heatmap(df_ica, annot = True)"
   ]
  },
  {
   "cell_type": "markdown",
   "metadata": {},
   "source": [
    "##Clustering\n",
    "\n",
    "Choose either K Means clustering or Gaussian Mixed Models clustering, which implements expectation-maximization. Then \n",
    "sample elements from the clusters to understand their significance."
   ]
  },
  {
   "cell_type": "markdown",
   "metadata": {},
   "source": [
    "[source](http://scikit-learn.org/stable/auto_examples/cluster/plot_kmeans_digits.html): from the sklearn documentation."
   ]
  },
  {
   "cell_type": "code",
   "execution_count": null,
   "metadata": {
    "collapsed": true
   },
   "outputs": [],
   "source": [
    "# Import clustering modules\n",
    "from sklearn.cluster import KMeans\n",
    "from sklearn.mixture import GMM"
   ]
  },
  {
   "cell_type": "code",
   "execution_count": null,
   "metadata": {
    "collapsed": false
   },
   "outputs": [],
   "source": [
    "# TODO: Reduce to Two dimensions using PCA to capture variation\n",
    "reduced_data = PCA(n_components = 2).fit_transform(df_center)\n",
    "print \"Reducing to 10 Elements\"\n",
    "print reduced_data[:10] "
   ]
  },
  {
   "cell_type": "code",
   "execution_count": null,
   "metadata": {
    "collapsed": false
   },
   "outputs": [],
   "source": [
    "# TODO: Implement clustering algorithm and fit it to the reduced data for visualization\n",
    "def cluster(clusterer):\n",
    "    clusterer.fit(reduced_data)\n",
    "    clusters = clusterer\n",
    "    print clusters\n",
    "    return clusters"
   ]
  },
  {
   "cell_type": "markdown",
   "metadata": {},
   "source": [
    "### Decision Boundary \n",
    " ###### Building Mesh Grid to Populate a Graph"
   ]
  },
  {
   "cell_type": "code",
   "execution_count": null,
   "metadata": {
    "collapsed": false
   },
   "outputs": [],
   "source": [
    "def boundary(clusters):\n",
    "    x_min, x_max = reduced_data[:, 0].min() - 1, reduced_data[:, 0].max() + 1\n",
    "    y_min, y_max = reduced_data[:, 1].min() - 1, reduced_data[:, 1].max() + 1\n",
    "    hx = (x_max-x_min)/1000.\n",
    "    hy = (y_max-y_min)/1000.\n",
    "    xx, yy = np.meshgrid(np.arange(x_min, x_max, hx), np.arange(y_min, y_max, hy))\n",
    "\n",
    "    # Obtain labels for each point in mesh. Use last trained model.\n",
    "    Z = clusters.predict(np.c_[xx.ravel(), yy.ravel()])\n",
    "    return Z,xx,yy,x_min,x_max,y_min,y_max"
   ]
  },
  {
   "cell_type": "code",
   "execution_count": null,
   "metadata": {
    "collapsed": false
   },
   "outputs": [],
   "source": [
    "# TODO: Find the centroids for KMeans or the cluster means for GMM \n",
    "def cluster_means(clusters, func_name):\n",
    "    centroids = getattr(clusters, func_name)\n",
    "    print centroids\n",
    "    return centroids"
   ]
  },
  {
   "cell_type": "code",
   "execution_count": null,
   "metadata": {
    "collapsed": false
   },
   "outputs": [],
   "source": [
    "# Put the result into a color plot\n",
    "def colorplot (clusters, Z,xx,yy,x_min,x_max,y_min,y_max,centroids):\n",
    "    pl.figure(figsize=(12,10))\n",
    "    Z = Z.reshape(xx.shape)\n",
    "    pl.figure(1)\n",
    "    pl.clf()\n",
    "    pl.imshow(Z, interpolation='nearest',\n",
    "               extent=(xx.min(), xx.max(), yy.min(), yy.max()),\n",
    "               cmap=pl.cm.Paired,\n",
    "               aspect='auto', origin='lower')\n",
    "\n",
    "    pl.plot(reduced_data[:, 0], reduced_data[:, 1], 'k.', markersize=2)\n",
    "    pl.scatter(centroids[:, 0], centroids[:, 1],\n",
    "                marker='x', s=169, linewidths=3,\n",
    "                color='w', zorder=10)\n",
    "    pl.title('Clustering on the wholesale grocery dataset (PCA-reduced data)\\n'\n",
    "              'Centroids are marked with white cross', fontsize = 18)\n",
    "    pl.xlim(x_min, x_max)\n",
    "    pl.ylim(y_min, y_max)\n",
    "    pl.xticks(())\n",
    "    pl.yticks(())\n",
    "    pl.show()"
   ]
  },
  {
   "cell_type": "code",
   "execution_count": null,
   "metadata": {
    "collapsed": true
   },
   "outputs": [],
   "source": [
    "def clusterplot(clusterer,func_name):\n",
    "    clusters = cluster(clusterer)\n",
    "    Z,xx,yy,x_min,x_max,y_min,y_max = boundary(clusters)\n",
    "    centroids = cluster_means(clusters,func_name)\n",
    "    colorplot(clusters,Z,xx,yy,x_min,x_max,y_min,y_max,centroids)"
   ]
  },
  {
   "cell_type": "code",
   "execution_count": null,
   "metadata": {
    "collapsed": false
   },
   "outputs": [],
   "source": [
    "clusterplot(KMeans(n_clusters=4),'cluster_centers_')"
   ]
  },
  {
   "cell_type": "code",
   "execution_count": null,
   "metadata": {
    "collapsed": true
   },
   "outputs": [],
   "source": []
  }
 ],
 "metadata": {
  "kernelspec": {
   "display_name": "Python 2",
   "language": "python",
   "name": "python2"
  }
 },
 "nbformat": 4,
 "nbformat_minor": 0
}
